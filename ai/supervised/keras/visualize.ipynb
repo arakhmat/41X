{
 "cells": [
  {
   "cell_type": "code",
   "execution_count": null,
   "metadata": {
    "collapsed": true
   },
   "outputs": [],
   "source": [
    "import os\n",
    "os.environ[\"CUDA_DEVICE_ORDER\"] = \"PCI_BUS_ID\"\n",
    "os.environ[\"CUDA_VISIBLE_DEVICES\"] = \"\"\n",
    "\n",
    "import h5py\n",
    "import numpy as np\n",
    "from keras.models import load_model\n",
    "import matplotlib.pyplot as plt\n",
    "\n",
    "import pylab\n",
    "pylab.rcParams['figure.figsize'] = (10, 10)\n",
    "\n",
    "from unveiler import Model\n",
    "from metrics import fmeasure, recall, precision\n",
    "\n",
    "N = 20\n",
    "direction = ['NW', 'W', 'SW', 'N', 'Stand', 'S', 'NE', 'E', 'SE', 'Undefined']\n",
    "if __name__ == \"__main__\":\n",
    "    \n",
    "    model_file = '../../reinforcement/models/rgb/robot_model.h5'\n",
    "#     model_file = 'models/rgb/robot_model.h5'\n",
    "    data_file = '../mixed_data/2018-02-25-20-51-03_rgb_3300.h5'\n",
    "    data_file = 'xperia.h5'\n",
    "    \n",
    "    keras_model = load_model(model_file, \n",
    "         {'fmeasure': fmeasure, 'recall': recall, 'precision': precision})\n",
    "    keras_model.summary()\n",
    "    \n",
    "    with h5py.File(data_file, 'r') as f:\n",
    "        states = f['states'][:]\n",
    "\n",
    "#     states = np.expand_dims(np.load('file.npy'), axis=0)\n",
    "#     states = np.expand_dims(states, axis=0)\n",
    "#     print(states.shape)\n",
    "        \n",
    "    model = Model(keras_model)\n",
    "\n",
    "    indices = np.random.permutation(states.shape[0])[:N]\n",
    "    print(indices)\n",
    "    "
   ]
  },
  {
   "cell_type": "code",
   "execution_count": null,
   "metadata": {
    "collapsed": true,
    "scrolled": false
   },
   "outputs": [],
   "source": [
    "for index in indices:\n",
    "    state = states[index]\n",
    "\n",
    "    fig, ax = plt.subplots(1, 3)\n",
    "    image = np.uint8(state.reshape((9, 128, 128)) * 128 + 128)\n",
    "    image = image.transpose((1,2,0))\n",
    "\n",
    "    for i_ax in range(ax.shape[0]):\n",
    "        ax[i_ax].axis('off')\n",
    "\n",
    "    ax[0].set_title('i[t-2]')\n",
    "    ax[0].imshow(image[:,:,0:3])\n",
    "    ax[1].set_title('i[t-1]')\n",
    "    ax[1].imshow(image[:,:,3:6])\n",
    "    ax[2].set_title('i[t]')\n",
    "    ax[2].imshow(image[:,:,6:9])\n",
    "    plt.show()\n",
    "\n",
    "    print('Feeforwarding through the network')\n",
    "    print(direction[np.argmax(model.predict(state))])\n",
    "    print(direction[np.argmax(keras_model.predict(np.expand_dims(state, axis=0)))])\n",
    "\n",
    "    print('Visualizing all activations')\n",
    "    model.visualize(until=6, n_cols=4) # Stop on last BatchNorm\n",
    "\n",
    "#         print('Deconvolving first layer')\n",
    "#         model.deconvolve(index=0)\n",
    "\n",
    "#         print('Deconvolving second layer')\n",
    "#         model.deconvolve(index=1)\n",
    "\n",
    "#         print('Deconvolving third layer')\n",
    "#         model.deconvolve(index=2)\n",
    "\n",
    "#         print('Deconvolving fourth layer')\n",
    "#         model.deconvolve(index=3)"
   ]
  },
  {
   "cell_type": "code",
   "execution_count": null,
   "metadata": {
    "collapsed": true,
    "scrolled": true
   },
   "outputs": [],
   "source": []
  }
 ],
 "metadata": {
  "kernelspec": {
   "display_name": "Python 3",
   "language": "python",
   "name": "python3"
  },
  "language_info": {
   "codemirror_mode": {
    "name": "ipython",
    "version": 3
   },
   "file_extension": ".py",
   "mimetype": "text/x-python",
   "name": "python",
   "nbconvert_exporter": "python",
   "pygments_lexer": "ipython3",
   "version": "3.6.1"
  }
 },
 "nbformat": 4,
 "nbformat_minor": 2
}
